{
 "cells": [
  {
   "cell_type": "code",
   "execution_count": 1,
   "metadata": {},
   "outputs": [],
   "source": [
    "%matplotlib inline\n",
    "import numpy as np\n",
    "import matplotlib.pyplot as plt\n",
    "import pandas as pd"
   ]
  },
  {
   "cell_type": "code",
   "execution_count": null,
   "metadata": {},
   "outputs": [
    {
     "name": "stdout",
     "output_type": "stream",
     "text": [
      "請輸入單位(公里/英里):公里\n",
      "請輸入距離:10\n",
      "10公里為6.2139999999999995英里\n",
      "---結束---\n"
     ]
    }
   ],
   "source": [
    "while True:\n",
    "        egg = input(\"請輸入單位(公里/英里):\")\n",
    "        n = int(input(\"請輸入距離:\"))\n",
    "        if egg == \"公里\" and isinstance(n, int) == True:\n",
    "            print(\"{}公里為{}英里\".format(n, n*0.6214))\n",
    "        elif egg == \"英里\" and isinstance(n, int) == True:\n",
    "            print(\"{}英里為{}公里\".format(n, n*0.6214))\n",
    "        else:\n",
    "            print(\"嶿入錯誤！\")\n",
    "        print(\"---結束---\")"
   ]
  },
  {
   "cell_type": "code",
   "execution_count": null,
   "metadata": {},
   "outputs": [],
   "source": []
  }
 ],
 "metadata": {
  "kernelspec": {
   "display_name": "Python 3",
   "language": "python",
   "name": "python3"
  },
  "language_info": {
   "codemirror_mode": {
    "name": "ipython",
    "version": 3
   },
   "file_extension": ".py",
   "mimetype": "text/x-python",
   "name": "python",
   "nbconvert_exporter": "python",
   "pygments_lexer": "ipython3",
   "version": "3.7.1"
  }
 },
 "nbformat": 4,
 "nbformat_minor": 2
}

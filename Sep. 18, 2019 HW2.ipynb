{
 "cells": [
  {
   "cell_type": "markdown",
   "metadata": {},
   "source": [
    "## 拍拍機器人"
   ]
  },
  {
   "cell_type": "code",
   "execution_count": 1,
   "metadata": {
    "scrolled": true
   },
   "outputs": [
    {
     "name": "stdout",
     "output_type": "stream",
     "text": [
      ">> 最近不知道有沒有變瘦（一天講一次）\n",
      "你是用念力在減肥喔！去運動！\n",
      ">> 但是我每天都爬山上下課誒\n",
      "那只是走路\n",
      ">> 但是我每天只吃一餐誒\n",
      "這樣會營養不均衡！\n",
      ">> 那我該怎麼做？\n",
      "每天按時吃飯，一週去三次健身房！\n",
      ">> 但是沒動力的時候怎麼辦？\n",
      "每天看看自己的肚子就會有動力了！\n",
      ">> 好吧我試試\n",
      "加油！你可以的！\n"
     ]
    }
   ],
   "source": [
    "msg = \" \"\n",
    "while msg != \"好吧我試試\":\n",
    "    msg = input(\">> \")\n",
    "    if \"瘦\"in msg:\n",
    "        print(\"你是用念力在減肥喔！去運動！\")\n",
    "    elif \"山\"in msg:\n",
    "        print(\"那只是走路\")\n",
    "    elif \"餐\"in msg:\n",
    "        print(\"這樣會營養不均衡！\")\n",
    "    elif \"做\"in msg:\n",
    "        print(\"每天按時吃飯，一週去三次健身房！\")\n",
    "    elif \"動\"in msg:\n",
    "        print(\"每天看看自己的肚子就會有動力了！\")\n",
    "    else:\n",
    "        print(\"加油！你可以的！\")"
   ]
  },
  {
   "cell_type": "markdown",
   "metadata": {},
   "source": [
    "## 猜數字"
   ]
  },
  {
   "cell_type": "code",
   "execution_count": null,
   "metadata": {},
   "outputs": [],
   "source": [
    "from random import randint"
   ]
  },
  {
   "cell_type": "code",
   "execution_count": null,
   "metadata": {},
   "outputs": [],
   "source": []
  }
 ],
 "metadata": {
  "kernelspec": {
   "display_name": "Python 3",
   "language": "python",
   "name": "python3"
  },
  "language_info": {
   "codemirror_mode": {
    "name": "ipython",
    "version": 3
   },
   "file_extension": ".py",
   "mimetype": "text/x-python",
   "name": "python",
   "nbconvert_exporter": "python",
   "pygments_lexer": "ipython3",
   "version": "3.7.1"
  }
 },
 "nbformat": 4,
 "nbformat_minor": 2
}

{
 "cells": [
  {
   "cell_type": "code",
   "execution_count": 1,
   "metadata": {},
   "outputs": [
    {
     "name": "stdout",
     "output_type": "stream",
     "text": [
      "{'bd': ('bd', '-borderwidth'), 'borderwidth': ('borderwidth', 'borderWidth', 'BorderWidth', <pixel object: '0'>, 0), 'class': ('class', 'class', 'Class', 'Toplevel', 'Tk'), 'menu': ('menu', 'menu', 'Menu', '', ''), 'relief': ('relief', 'relief', 'Relief', <index object: 'flat'>, 'flat'), 'screen': ('screen', 'screen', 'Screen', '', ''), 'use': ('use', 'use', 'Use', '', ''), 'background': ('background', 'background', 'Background', <border object: 'systemWindowBody'>, 'green'), 'bg': ('bg', '-background'), 'colormap': ('colormap', 'colormap', 'Colormap', '', ''), 'container': ('container', 'container', 'Container', 0, 0), 'cursor': ('cursor', 'cursor', 'Cursor', '', ''), 'height': ('height', 'height', 'Height', <pixel object: '0'>, 600), 'highlightbackground': ('highlightbackground', 'highlightBackground', 'HighlightBackground', <color object: 'systemWindowBody'>, 'systemWindowBody'), 'highlightcolor': ('highlightcolor', 'highlightColor', 'HighlightColor', <color object: 'Black'>, 'Black'), 'highlightthickness': ('highlightthickness', 'highlightThickness', 'HighlightThickness', <pixel object: '0'>, 0), 'padx': ('padx', 'padX', 'Pad', <pixel object: '0'>, <pixel object: '0'>), 'pady': ('pady', 'padY', 'Pad', <pixel object: '0'>, <pixel object: '0'>), 'takefocus': ('takefocus', 'takeFocus', 'TakeFocus', '0', '0'), 'visual': ('visual', 'visual', 'Visual', '', ''), 'width': ('width', 'width', 'Width', <pixel object: '0'>, 800)}\n"
     ]
    }
   ],
   "source": [
    "import tkinter as tk\n",
    "\n",
    "window = tk.Tk()\n",
    "window.title('test')\n",
    "window.config(background = 'green', width = '800', heigh = '600')\n",
    "print(window.config())\n",
    "window.mainloop()"
   ]
  },
  {
   "cell_type": "code",
   "execution_count": 3,
   "metadata": {},
   "outputs": [],
   "source": [
    "window = tk.Tk()\n",
    "lbl = tk.Label(window, text = 'Hello!', font = ('Times', 100))\n",
    "lbl.pack()\n",
    "window.mainloop()"
   ]
  },
  {
   "cell_type": "code",
   "execution_count": 4,
   "metadata": {},
   "outputs": [
    {
     "ename": "NameError",
     "evalue": "name 'btn' is not defined",
     "output_type": "error",
     "traceback": [
      "\u001b[0;31m---------------------------------------------------------------------------\u001b[0m",
      "\u001b[0;31mNameError\u001b[0m                                 Traceback (most recent call last)",
      "\u001b[0;32m<ipython-input-4-43a20c030541>\u001b[0m in \u001b[0;36m<module>\u001b[0;34m\u001b[0m\n\u001b[1;32m      6\u001b[0m \u001b[0mlbl\u001b[0m\u001b[0;34m.\u001b[0m\u001b[0mpack\u001b[0m\u001b[0;34m(\u001b[0m\u001b[0;34m)\u001b[0m\u001b[0;34m\u001b[0m\u001b[0;34m\u001b[0m\u001b[0m\n\u001b[1;32m      7\u001b[0m \u001b[0mlbl\u001b[0m \u001b[0;34m=\u001b[0m \u001b[0mtk\u001b[0m\u001b[0;34m.\u001b[0m\u001b[0mButton\u001b[0m\u001b[0;34m(\u001b[0m\u001b[0mwindow\u001b[0m\u001b[0;34m,\u001b[0m \u001b[0mtext\u001b[0m \u001b[0;34m=\u001b[0m \u001b[0;34m'Close'\u001b[0m\u001b[0;34m,\u001b[0m \u001b[0mcommand\u001b[0m \u001b[0;34m=\u001b[0m \u001b[0mwindow_quit\u001b[0m\u001b[0;34m)\u001b[0m\u001b[0;34m\u001b[0m\u001b[0;34m\u001b[0m\u001b[0m\n\u001b[0;32m----> 8\u001b[0;31m \u001b[0mbtn\u001b[0m\u001b[0;34m.\u001b[0m\u001b[0mpack\u001b[0m\u001b[0;34m(\u001b[0m\u001b[0;34m)\u001b[0m\u001b[0;34m\u001b[0m\u001b[0;34m\u001b[0m\u001b[0m\n\u001b[0m\u001b[1;32m      9\u001b[0m \u001b[0mwindow\u001b[0m\u001b[0;34m.\u001b[0m\u001b[0mmainloop\u001b[0m\u001b[0;34m(\u001b[0m\u001b[0;34m)\u001b[0m\u001b[0;34m\u001b[0m\u001b[0;34m\u001b[0m\u001b[0m\n",
      "\u001b[0;31mNameError\u001b[0m: name 'btn' is not defined"
     ]
    }
   ],
   "source": [
    "def window_quit():\n",
    "    window.destroy()\n",
    "    lbl.config(test = \"Please don't go~~\")\n",
    "window = tk.Tk()\n",
    "lbl = tk.Label(window, text = 'Hello!')\n",
    "lbl.pack()\n",
    "lbl = tk.Button(window, text = 'Close', command = window_quit)\n",
    "btn.pack()\n",
    "window.mainloop()"
   ]
  },
  {
   "cell_type": "code",
   "execution_count": null,
   "metadata": {},
   "outputs": [],
   "source": []
  }
 ],
 "metadata": {
  "kernelspec": {
   "display_name": "Python 3",
   "language": "python",
   "name": "python3"
  },
  "language_info": {
   "codemirror_mode": {
    "name": "ipython",
    "version": 3
   },
   "file_extension": ".py",
   "mimetype": "text/x-python",
   "name": "python",
   "nbconvert_exporter": "python",
   "pygments_lexer": "ipython3",
   "version": "3.7.1"
  }
 },
 "nbformat": 4,
 "nbformat_minor": 2
}

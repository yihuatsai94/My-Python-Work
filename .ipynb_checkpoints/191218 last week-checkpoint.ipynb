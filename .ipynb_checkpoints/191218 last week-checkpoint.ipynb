{
 "cells": [
  {
   "cell_type": "code",
   "execution_count": 1,
   "metadata": {},
   "outputs": [],
   "source": [
    "%matplotlib inline\n",
    "import numpy as np\n",
    "import matplotlib.pyplot as plt\n",
    "import pandas as pd"
   ]
  },
  {
   "cell_type": "markdown",
   "metadata": {},
   "source": [
    "## 找一個好的編輯器"
   ]
  },
  {
   "cell_type": "markdown",
   "metadata": {},
   "source": [
    "* Visual Studio Code\n",
    "* VIM"
   ]
  },
  {
   "cell_type": "code",
   "execution_count": 2,
   "metadata": {},
   "outputs": [
    {
     "name": "stdout",
     "output_type": "stream",
     "text": [
      "mkdir: eggs: File exists\r\n"
     ]
    }
   ],
   "source": [
    "!mkdir eggs\n",
    "# 建立一個新的資料夾\n",
    "# ! 的意思：直接下系統的指令"
   ]
  },
  {
   "cell_type": "code",
   "execution_count": 3,
   "metadata": {},
   "outputs": [
    {
     "name": "stdout",
     "output_type": "stream",
     "text": [
      "0918 上課複習.ipynb\r\n",
      "0918.ipynb\r\n",
      "0925.ipynb\r\n",
      "1002 上課.ipynb\r\n",
      "1008 上課.ipynb\r\n",
      "1008.ipynb\r\n",
      "1016 上課.ipynb\r\n",
      "1023 上課.ipynb\r\n",
      "1030 上課.ipynb\r\n",
      "1113 上課.ipynb\r\n",
      "1120 上課.ipynb\r\n",
      "1127 上課.ipynb\r\n",
      "191218 last week.ipynb\r\n",
      "HW3.ipynb\r\n",
      "Nov.13, 2019 HW10-1 波士頓房價預測.ipynb\r\n",
      "Nov.13, 2019 HW10-2 蘋果股價.ipynb\r\n",
      "Nov.20, 2019 HW11-1 鳶尾花-1.ipynb\r\n",
      "Nov.20, 2019 HW11-2 鳶尾花-2.ipynb\r\n",
      "Nov.20, 2019 HW11-3 用 contourf 畫圖.ipynb\r\n",
      "Nov.27, 2019 HW12-1 求 a + aa + aaa +aa....a 的值.ipynb\r\n",
      "Nov.27, 2019 HW12-2 將所輸入的字母，用相反顺序輸出.ipynb\r\n",
      "Nov.27, 2019 HW12-3 列出日期.ipynb\r\n",
      "Nov.4, 2019 HW9 .ipynb\r\n",
      "Oct 30, 2019 HW8.ipynb\r\n",
      "Oct. 1, 2019 HW4.ipynb\r\n",
      "Oct. 13,2019.ipynb\r\n",
      "Oct. 15, 2019 HW6.ipynb\r\n",
      "Oct. 23, 2019 HW7-1.ipynb\r\n",
      "Oct. 23, 2019 HW7-2.ipynb\r\n",
      "Oct. 8, 2019 HW5.ipynb\r\n",
      "\u001b[31mREADME.md.pages\u001b[m\u001b[m*\r\n",
      "Sep. 11, 2019 HW1.ipynb\r\n",
      "Sep. 18, 2019 HW2  .ipynb\r\n",
      "Sep. 18, 2019 HW2.ipynb\r\n",
      "Sep. 25, 2019 HW3.ipynb\r\n",
      "Untitled.ipynb\r\n",
      "Untitled1.ipynb\r\n",
      "\u001b[1m\u001b[36meggs\u001b[m\u001b[m/\r\n",
      "learn 1A2B.ipynb\r\n",
      "mydic.csv\r\n",
      "mydic.pickle\r\n",
      "pig.jpg\r\n",
      "poem.py\r\n",
      "test.py\r\n",
      "test.txt\r\n",
      "text.txt\r\n",
      "web01.py\r\n",
      "我人生中第一個python.ipynb\r\n"
     ]
    }
   ],
   "source": [
    "%ls"
   ]
  },
  {
   "cell_type": "code",
   "execution_count": 4,
   "metadata": {},
   "outputs": [
    {
     "name": "stdout",
     "output_type": "stream",
     "text": [
      "/Users/saiyoroshikaba/Desktop/數學軟體應用/eggs\n"
     ]
    }
   ],
   "source": [
    "%cd eggs"
   ]
  },
  {
   "cell_type": "code",
   "execution_count": 5,
   "metadata": {},
   "outputs": [],
   "source": [
    "from random import randint"
   ]
  },
  {
   "cell_type": "code",
   "execution_count": 6,
   "metadata": {},
   "outputs": [
    {
     "name": "stdout",
     "output_type": "stream",
     "text": [
      "7, 68, 93, 83, 2, 26, 100, 90, 17, 49, 77, 83, 78, 52, 86, 3, 13, 94, 78, 70, 7, 72, 49, 33, 2, 30, 10, 3, 27, 8, 36, 90, 53, 63, 25, 100, 88, 27, 47, 80, 27, 23, 64, 81, 66, 80, 65, 32, 31, 47, 88, 66, 24, 49, 7, 70, 78, 11, 24, 62, 60, 88, 13, 49, 3, 13, 23, 66, 22, 8, 74, 17, 67, 52, 67, 46, 54, 20, 78, 89, 9, 90, 1, 39, 31, 23, 55, 8, 37, 59, 89, 51, 86, 10, 35, 42, 44, 19, 65, 13, "
     ]
    }
   ],
   "source": [
    "for i in range(100):\n",
    "    print(randint(1,100), end=\", \")\n",
    "#  會出現1~100的數字，其中會出現最後一個極端值"
   ]
  },
  {
   "cell_type": "code",
   "execution_count": 7,
   "metadata": {},
   "outputs": [
    {
     "name": "stdout",
     "output_type": "stream",
     "text": [
      "75, 68, 72, 61, 88, 46, 98, 81, 85, 24, 75, 43, 83, 55, 58, 25, 90, 17, 9, 60, 32, 71, 94, 7, 80, 7, 50, 10, 14, 17, 72, 49, 2, 78, 89, 1, 96, 80, 98, 62, 29, 20, 76, 92, 37, 82, 49, 50, 12, 92, 3, 37, 54, 14, 93, 84, 84, 14, 1, 41, 42, 83, 35, 44, 4, 60, 97, 56, 82, 39, 60, 73, 97, 65, 36, 69, 29, 85, 27, 11, 61, 5, 39, 71, 96, 11, 91, 33, 12, 1, 88, 42, 86, 26, 45, 99, 25, 98, 68, 10, "
     ]
    }
   ],
   "source": [
    "for i in range(100):\n",
    "    print(np.random.randint(1,100), end=\", \")\n",
    "# 用這個指令就不會出現極端值\n",
    "# 不要用 star (?)"
   ]
  },
  {
   "cell_type": "code",
   "execution_count": 8,
   "metadata": {},
   "outputs": [
    {
     "name": "stdout",
     "output_type": "stream",
     "text": [
      "你今天的幸運數字是 7!\n"
     ]
    }
   ],
   "source": [
    "n = randint(1,100)\n",
    "print(f\"你今天的幸運數字是 {n}!\")"
   ]
  },
  {
   "cell_type": "code",
   "execution_count": 9,
   "metadata": {},
   "outputs": [
    {
     "name": "stdout",
     "output_type": "stream",
     "text": [
      "File `spam.py` exists. Overwrite (y/[N])?  y\n",
      "The following commands were written to file `spam.py`:\n",
      "get_ipython().run_line_magic('matplotlib', 'inline')\n",
      "import numpy as np\n",
      "import matplotlib.pyplot as plt\n",
      "import pandas as pd\n",
      "n = randint(1,100)\n",
      "print(f\"你今天的幸運數字是 {n}!\")\n"
     ]
    }
   ],
   "source": [
    "%save spam.py 1 8"
   ]
  },
  {
   "cell_type": "markdown",
   "metadata": {},
   "source": [
    "## Python 網頁框架\n",
    "    * Django(大型專案)\n",
    "    * Flask(小巧)"
   ]
  },
  {
   "cell_type": "markdown",
   "metadata": {},
   "source": [
    "## Streamlit\n",
    "\n",
    "    !pip install streamlit"
   ]
  },
  {
   "cell_type": "code",
   "execution_count": 13,
   "metadata": {},
   "outputs": [
    {
     "name": "stdout",
     "output_type": "stream",
     "text": [
      "Overwriting web01.py\n"
     ]
    }
   ],
   "source": [
    "%%writefile web01.py\n",
    "import pandas as pd\n",
    "df = pd.DataFrame({\"A\": [33, 99, 88], \"B\":[94, 87, 1000]})\n",
    "\n",
    "df"
   ]
  },
  {
   "cell_type": "code",
   "execution_count": 14,
   "metadata": {},
   "outputs": [
    {
     "name": "stdout",
     "output_type": "stream",
     "text": [
      "ham.py    spam.py   web01.py\r\n"
     ]
    }
   ],
   "source": [
    "%ls"
   ]
  },
  {
   "cell_type": "code",
   "execution_count": 15,
   "metadata": {},
   "outputs": [
    {
     "name": "stdout",
     "output_type": "stream",
     "text": [
      "/bin/sh: streamlit: command not found\r\n"
     ]
    }
   ],
   "source": [
    "!streamlit run web01.py"
   ]
  },
  {
   "cell_type": "code",
   "execution_count": null,
   "metadata": {},
   "outputs": [],
   "source": []
  }
 ],
 "metadata": {
  "kernelspec": {
   "display_name": "Python 3",
   "language": "python",
   "name": "python3"
  },
  "language_info": {
   "codemirror_mode": {
    "name": "ipython",
    "version": 3
   },
   "file_extension": ".py",
   "mimetype": "text/x-python",
   "name": "python",
   "nbconvert_exporter": "python",
   "pygments_lexer": "ipython3",
   "version": "3.7.1"
  }
 },
 "nbformat": 4,
 "nbformat_minor": 2
}

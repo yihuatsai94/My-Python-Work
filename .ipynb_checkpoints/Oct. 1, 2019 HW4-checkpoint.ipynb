{
 "cells": [
  {
   "cell_type": "code",
   "execution_count": 1,
   "metadata": {},
   "outputs": [],
   "source": [
    "%matplotlib inline\n",
    "import numpy as np\n",
    "import matplotlib.pyplot as plt\n",
    "import pandas as pd"
   ]
  },
  {
   "cell_type": "markdown",
   "metadata": {},
   "source": [
    "### 一、現有四個數字：5, 6, 7, 8, 請問這四個數字可以組成多少個不同而且不重複的三位數？各是多少？"
   ]
  },
  {
   "cell_type": "code",
   "execution_count": 2,
   "metadata": {},
   "outputs": [
    {
     "name": "stdout",
     "output_type": "stream",
     "text": [
      "5 6 7\n",
      "5 6 8\n",
      "5 7 6\n",
      "5 7 8\n",
      "5 8 6\n",
      "5 8 7\n",
      "6 5 7\n",
      "6 5 8\n",
      "6 7 5\n",
      "6 7 8\n",
      "6 8 5\n",
      "6 8 7\n",
      "7 5 6\n",
      "7 5 8\n",
      "7 6 5\n",
      "7 6 8\n",
      "7 8 5\n",
      "7 8 6\n",
      "8 5 6\n",
      "8 5 7\n",
      "8 6 5\n",
      "8 6 7\n",
      "8 7 5\n",
      "8 7 6\n"
     ]
    }
   ],
   "source": [
    "for i in range(5,9):\n",
    "    for j in range(5,9):\n",
    "        for k in range(5,9):\n",
    "            if( i != k ) and (i != j) and (j != k):\n",
    "                print (i,j,k)"
   ]
  },
  {
   "cell_type": "markdown",
   "metadata": {},
   "source": [
    "### 二、九九乘法表"
   ]
  },
  {
   "cell_type": "code",
   "execution_count": 3,
   "metadata": {},
   "outputs": [
    {
     "name": "stdout",
     "output_type": "stream",
     "text": [
      "1*1= 1 1*2= 2 1*3= 3 1*4= 4 1*5= 5 1*6= 6 1*7= 7 1*8= 8 1*9= 9 \n",
      "       2*2= 4 2*3= 6 2*4= 8 2*5=10 2*6=12 2*7=14 2*8=16 2*9=18 \n",
      "              3*3= 9 3*4=12 3*5=15 3*6=18 3*7=21 3*8=24 3*9=27 \n",
      "                     4*4=16 4*5=20 4*6=24 4*7=28 4*8=32 4*9=36 \n",
      "                            5*5=25 5*6=30 5*7=35 5*8=40 5*9=45 \n",
      "                                   6*6=36 6*7=42 6*8=48 6*9=54 \n",
      "                                          7*7=49 7*8=56 7*9=63 \n",
      "                                                 8*8=64 8*9=72 \n",
      "                                                        9*9=81 \n"
     ]
    }
   ],
   "source": [
    "for i in range(1,10):\n",
    "    for k in range(1,i):\n",
    "        print (end=\"       \")\n",
    "    for j in range(i,10):\n",
    "        print(\"%d*%d=%2d\" % (i,j,i*j),end=\" \")\n",
    "    print(\"\")"
   ]
  },
  {
   "cell_type": "markdown",
   "metadata": {},
   "source": [
    "### 三、將列表的值以反序法輸出"
   ]
  },
  {
   "cell_type": "code",
   "execution_count": 4,
   "metadata": {},
   "outputs": [
    {
     "name": "stdout",
     "output_type": "stream",
     "text": [
      "a\n",
      "p\n",
      "p\n",
      "l\n",
      "e\n"
     ]
    }
   ],
   "source": [
    "a = ['e', 'l', 'p', 'p', 'a']\n",
    "for i in a[::-1]:\n",
    "    print(i)"
   ]
  },
  {
   "cell_type": "code",
   "execution_count": null,
   "metadata": {},
   "outputs": [],
   "source": []
  }
 ],
 "metadata": {
  "kernelspec": {
   "display_name": "Python 3",
   "language": "python",
   "name": "python3"
  },
  "language_info": {
   "codemirror_mode": {
    "name": "ipython",
    "version": 3
   },
   "file_extension": ".py",
   "mimetype": "text/x-python",
   "name": "python",
   "nbconvert_exporter": "python",
   "pygments_lexer": "ipython3",
   "version": "3.7.1"
  }
 },
 "nbformat": 4,
 "nbformat_minor": 2
}

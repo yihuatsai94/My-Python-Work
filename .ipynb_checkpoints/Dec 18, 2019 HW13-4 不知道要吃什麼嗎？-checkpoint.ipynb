{
 "cells": [
  {
   "cell_type": "code",
   "execution_count": 1,
   "metadata": {},
   "outputs": [],
   "source": [
    "%matplotlib inline\n",
    "\n",
    "import numpy as np\n",
    "import matplotlib.pyplot as plt\n",
    "import pandas as pd"
   ]
  },
  {
   "cell_type": "markdown",
   "metadata": {},
   "source": [
    "### 去\"聚 北海道昆布鍋不知道要吃什麼嗎？\""
   ]
  },
  {
   "cell_type": "code",
   "execution_count": 2,
   "metadata": {},
   "outputs": [],
   "source": [
    "from numpy.random import randint\n",
    "from numpy.random import choice"
   ]
  },
  {
   "cell_type": "code",
   "execution_count": 3,
   "metadata": {},
   "outputs": [
    {
     "name": "stdout",
     "output_type": "stream",
     "text": [
      "您的點餐結果如下： ['昆布滋養鍋(素)'] + ['低脂牛肉(美)'] + ['海鮮漿'] + ['日式粉絲'] + ['金字塔紅豆冰堡'] + ['玫瑰奶蓋茶']\n"
     ]
    }
   ],
   "source": [
    "湯頭 = [\"北海道昆布鍋\", \"昆布滋養鍋(素)\", \"昆布麻辣鍋\", \"辛味噌昆布湯\", \"美人膠原湯(+60元)\"]\n",
    "主餐 = [\"雪花牛肉(美)\", \"低脂牛肉(美)\", \"雪花豬肉\", \"鮮嫩雞肉\"]\n",
    "精緻時蔬拼盤 = [\"鮮肉漿\", \"海鮮漿\", \"魚麵\"]\n",
    "附食 = [\"芝香白飯\", \"日式粉絲\", \"昆布烏龍麵\"]\n",
    "甜品 = [\"蓮子銀耳釀(熱)(素)\", \"金字塔紅豆冰堡\", \"荷包蛋奶酪\"]\n",
    "飲品 = [\"蜜桃國寶茶(熱)(素)\", \"蕎麥烏龍茶(熱)(素)\", \"香莓芒果冰沙\", \"玫瑰奶蓋茶\"]\n",
    "print(\"您的點餐結果如下：\", choice(湯頭,1), \"+\", choice(主餐,1), \"+\", choice(精緻時蔬拼盤,1), \"+\", choice(附食,1), \"+\", choice(甜品,1), \"+\", choice(飲品,1))"
   ]
  },
  {
   "cell_type": "code",
   "execution_count": null,
   "metadata": {},
   "outputs": [],
   "source": []
  }
 ],
 "metadata": {
  "kernelspec": {
   "display_name": "Python 3",
   "language": "python",
   "name": "python3"
  },
  "language_info": {
   "codemirror_mode": {
    "name": "ipython",
    "version": 3
   },
   "file_extension": ".py",
   "mimetype": "text/x-python",
   "name": "python",
   "nbconvert_exporter": "python",
   "pygments_lexer": "ipython3",
   "version": "3.7.1"
  }
 },
 "nbformat": 4,
 "nbformat_minor": 2
}

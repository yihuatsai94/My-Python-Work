{
 "cells": [
  {
   "cell_type": "code",
   "execution_count": 1,
   "metadata": {},
   "outputs": [],
   "source": [
    "%matplotlib inline\n",
    "import numpy as np\n",
    "import matplotlib.pyplot as plt\n",
    "import pandas as pd"
   ]
  },
  {
   "cell_type": "markdown",
   "metadata": {},
   "source": [
    "### 判斷是否為閏年\n",
    "\n",
    "閏年是比普通年份多出一段時間的年份，在各種曆法中都有出現，目的是為了彌補人為規定的紀年與地球公轉產生的差異。\n",
    "\n",
    "目前使用的格里曆閏年規則如下：\n",
    "\n",
    "    1.西元年份除以4不可整除，為平年。\n",
    "    2.西元年份除以4可整除，且除以100不可整除，為閏年。\n",
    "    3.西元年份除以100可整除，且除以400不可整除，為平年\n",
    "    4.西元年份除以400可整除，為閏年。"
   ]
  },
  {
   "cell_type": "code",
   "execution_count": 2,
   "metadata": {},
   "outputs": [
    {
     "name": "stdout",
     "output_type": "stream",
     "text": [
      "請輸入年份：2020\n",
      "是閏年\n"
     ]
    }
   ],
   "source": [
    "def leap_year(n):\n",
    "    if n%4==0 and n%100!=0:\n",
    "        print (\"是閏年\")\n",
    "    elif n%400==0:\n",
    "        print (\"是閏年\")\n",
    "    else:\n",
    "        print (\"是平年\")\n",
    "n = int(input(\"請輸入年份：\"))\n",
    "leap_year(n)"
   ]
  },
  {
   "cell_type": "code",
   "execution_count": null,
   "metadata": {},
   "outputs": [],
   "source": []
  }
 ],
 "metadata": {
  "kernelspec": {
   "display_name": "Python 3",
   "language": "python",
   "name": "python3"
  },
  "language_info": {
   "codemirror_mode": {
    "name": "ipython",
    "version": 3
   },
   "file_extension": ".py",
   "mimetype": "text/x-python",
   "name": "python",
   "nbconvert_exporter": "python",
   "pygments_lexer": "ipython3",
   "version": "3.7.1"
  }
 },
 "nbformat": 4,
 "nbformat_minor": 2
}

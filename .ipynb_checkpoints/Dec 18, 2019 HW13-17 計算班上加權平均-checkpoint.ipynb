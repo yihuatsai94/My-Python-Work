{
 "cells": [
  {
   "cell_type": "code",
   "execution_count": 1,
   "metadata": {},
   "outputs": [],
   "source": [
    "%matplotlib inline\n",
    "import numpy as np\n",
    "import matplotlib.pyplot as plt\n",
    "import pandas as pd"
   ]
  },
  {
   "cell_type": "markdown",
   "metadata": {},
   "source": [
    "有A,B,C三個班級，每班皆有10個學生，期中考結束後，老師希望計算各班級每位學生的加權平均成績。\n",
    " \n",
    "請隨機產生3個班級的成績單,每班10人,共五科,權重為weights=[0.25,0.25,0.25,0.15,0.10]。\n",
    "\n",
    "請算出班級加權平均成績，並以一個array輸出。"
   ]
  },
  {
   "cell_type": "code",
   "execution_count": 2,
   "metadata": {},
   "outputs": [],
   "source": [
    "grades = np.array([np.random.randint(0, 100, size=[3,10,5])])"
   ]
  },
  {
   "cell_type": "code",
   "execution_count": 3,
   "metadata": {},
   "outputs": [],
   "source": [
    "weights = np.array([0.25,0.25,0.25,0.15,0.10])"
   ]
  },
  {
   "cell_type": "code",
   "execution_count": 4,
   "metadata": {},
   "outputs": [
    {
     "name": "stdout",
     "output_type": "stream",
     "text": [
      "各個班級的成績：\n",
      " [[[[71 88 98 89 34]\n",
      "   [57 40 97  5  1]\n",
      "   [98 91 47 66 80]\n",
      "   [22 48  9 88  9]\n",
      "   [86 89 78 55 44]\n",
      "   [64 61 69 64 79]\n",
      "   [94 83 92 52 62]\n",
      "   [87 98 52  6 52]\n",
      "   [80  3 89 32 98]\n",
      "   [26 78 95 28 15]]\n",
      "\n",
      "  [[27 37 93 96  8]\n",
      "   [ 0 61 78 20 97]\n",
      "   [99 12  5 20 91]\n",
      "   [13 86 99 47 65]\n",
      "   [62 38 59 20 13]\n",
      "   [75 12 12 30 88]\n",
      "   [ 5 99 92 78 48]\n",
      "   [19 13 28 82 26]\n",
      "   [ 7 75  8 96  8]\n",
      "   [18 16 69 13 89]]\n",
      "\n",
      "  [[62 42 61 57 32]\n",
      "   [74 72 75 12 88]\n",
      "   [87 67  8 61 43]\n",
      "   [65 97  8 81 36]\n",
      "   [64  6 19 92 65]\n",
      "   [ 1 98 96 80 97]\n",
      "   [19 77 21 76 21]\n",
      "   [50 14 35 35 89]\n",
      "   [22 48 84 47 25]\n",
      "   [61 24 57 77  4]]]]\n"
     ]
    }
   ],
   "source": [
    "print(\"各個班級的成績：\\n\",grades)"
   ]
  },
  {
   "cell_type": "code",
   "execution_count": 5,
   "metadata": {},
   "outputs": [],
   "source": [
    "A = np.dot(grades,weights)"
   ]
  },
  {
   "cell_type": "code",
   "execution_count": 6,
   "metadata": {},
   "outputs": [
    {
     "name": "stdout",
     "output_type": "stream",
     "text": [
      "加權後每位同學的平均成績：\n",
      " [[[81.   49.35 76.9  33.85 75.9  66.   81.25 65.35 57.6  55.45]\n",
      "  [54.45 47.45 41.1  63.05 44.05 38.05 65.5  29.9  37.7  36.6 ]\n",
      "  [53.   65.85 53.95 58.25 42.55 70.45 42.75 38.9  48.05 47.45]]]\n"
     ]
    }
   ],
   "source": [
    "print(\"加權後每位同學的平均成績：\\n\",A)"
   ]
  },
  {
   "cell_type": "code",
   "execution_count": 7,
   "metadata": {},
   "outputs": [
    {
     "name": "stdout",
     "output_type": "stream",
     "text": [
      "班級加權平均成績：\n",
      " [[64.265 45.785 52.12 ]]\n"
     ]
    }
   ],
   "source": [
    "print(\"班級加權平均成績：\\n\",np.average(A,axis=2))"
   ]
  }
 ],
 "metadata": {
  "kernelspec": {
   "display_name": "Python 3",
   "language": "python",
   "name": "python3"
  },
  "language_info": {
   "codemirror_mode": {
    "name": "ipython",
    "version": 3
   },
   "file_extension": ".py",
   "mimetype": "text/x-python",
   "name": "python",
   "nbconvert_exporter": "python",
   "pygments_lexer": "ipython3",
   "version": "3.7.1"
  }
 },
 "nbformat": 4,
 "nbformat_minor": 2
}

{
 "cells": [
  {
   "cell_type": "code",
   "execution_count": 1,
   "metadata": {},
   "outputs": [],
   "source": [
    "%matplotlib inline\n",
    "import numpy as np\n",
    "import matplotlib.pyplot as plt\n",
    "import pandas as pd"
   ]
  },
  {
   "cell_type": "markdown",
   "metadata": {},
   "source": [
    "### 求 s = a+aa+aaa+aaaa+aa…a 的值，其中 a 是一個數字。"
   ]
  },
  {
   "cell_type": "code",
   "execution_count": 2,
   "metadata": {},
   "outputs": [
    {
     "name": "stdout",
     "output_type": "stream",
     "text": [
      "Please input number a:7\n",
      "Please input times:7\n",
      "7+77+777+7777+77777+777777+7777777+=8641969\n"
     ]
    }
   ],
   "source": [
    "a = input('Please input number a:')\n",
    "times = int(input('Please input times:'))\n",
    "list = []\n",
    "result = 0\n",
    "for i in range(1, times+1):\n",
    "    list.append(int(a*i))\n",
    "for j in list:\n",
    "    print('%s+' % j, end='')\n",
    "    result += j\n",
    "print('=%s' % result)"
   ]
  },
  {
   "cell_type": "code",
   "execution_count": null,
   "metadata": {},
   "outputs": [],
   "source": []
  }
 ],
 "metadata": {
  "kernelspec": {
   "display_name": "Python 3",
   "language": "python",
   "name": "python3"
  },
  "language_info": {
   "codemirror_mode": {
    "name": "ipython",
    "version": 3
   },
   "file_extension": ".py",
   "mimetype": "text/x-python",
   "name": "python",
   "nbconvert_exporter": "python",
   "pygments_lexer": "ipython3",
   "version": "3.7.1"
  }
 },
 "nbformat": 4,
 "nbformat_minor": 2
}

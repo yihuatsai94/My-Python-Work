{
 "cells": [
  {
   "cell_type": "code",
   "execution_count": 1,
   "metadata": {},
   "outputs": [],
   "source": [
    "%matplotlib inline\n",
    "import numpy as np\n",
    "import matplotlib.pyplot as plt\n",
    "import pandas as pd"
   ]
  },
  {
   "cell_type": "markdown",
   "metadata": {},
   "source": [
    "### 計算你的BMI值"
   ]
  },
  {
   "cell_type": "code",
   "execution_count": 2,
   "metadata": {},
   "outputs": [
    {
     "name": "stdout",
     "output_type": "stream",
     "text": [
      "---BMI計算系統---\n",
      "請輸入身高(m):1.65\n",
      "請輸入體重(kg):58\n",
      "測驗結果如下\n",
      "你的BMI為: 21.3\n",
      "恭喜你!很健康!!\n",
      "---測驗結束---\n"
     ]
    }
   ],
   "source": [
    "print(\"---BMI計算系統---\")\n",
    "height = float(input(\"請輸入身高(m):\"))\n",
    "weight = float(input(\"請輸入體重(kg):\"))\n",
    "BMI = float(weight/height**2)\n",
    "print(\"測驗結果如下\")\n",
    "print(\"你的BMI為:\", round(BMI, 2))\n",
    "if BMI < 18.5:\n",
    "    print(\"體重過輕\")\n",
    "elif 18.5 <= BMI <24:\n",
    "    print(\"恭喜你!很健康!!\")\n",
    "elif 24 <= BMI < 27:\n",
    "    print(\"過重\")\n",
    "elif 27 <= BMI <30:\n",
    "    print(\"輕度肥胖\")\n",
    "elif 30 <= BMI <35:\n",
    "    print(\"中度肥胖\")\n",
    "else:\n",
    "    print(\"重度肥胖! 請注意飲食\")\n",
    "print(\"---測驗結束---\")"
   ]
  },
  {
   "cell_type": "code",
   "execution_count": null,
   "metadata": {},
   "outputs": [],
   "source": []
  }
 ],
 "metadata": {
  "kernelspec": {
   "display_name": "Python 3",
   "language": "python",
   "name": "python3"
  },
  "language_info": {
   "codemirror_mode": {
    "name": "ipython",
    "version": 3
   },
   "file_extension": ".py",
   "mimetype": "text/x-python",
   "name": "python",
   "nbconvert_exporter": "python",
   "pygments_lexer": "ipython3",
   "version": "3.7.1"
  }
 },
 "nbformat": 4,
 "nbformat_minor": 2
}

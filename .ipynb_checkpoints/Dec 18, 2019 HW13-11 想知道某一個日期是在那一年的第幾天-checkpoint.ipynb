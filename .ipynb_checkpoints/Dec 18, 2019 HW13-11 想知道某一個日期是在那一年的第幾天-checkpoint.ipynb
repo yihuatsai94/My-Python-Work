{
 "cells": [
  {
   "cell_type": "code",
   "execution_count": 1,
   "metadata": {},
   "outputs": [],
   "source": [
    "%matplotlib inline\n",
    "\n",
    "import numpy as np\n",
    "import matplotlib.pyplot as plt\n",
    "import pandas as pd"
   ]
  },
  {
   "cell_type": "code",
   "execution_count": 2,
   "metadata": {},
   "outputs": [
    {
     "name": "stdout",
     "output_type": "stream",
     "text": [
      "請輸入你想查詢的日期(格式為yyyy-mm-dd):1994-12-14\n",
      "1994-12-14是該年份的第348天\n"
     ]
    }
   ],
   "source": [
    "dat = input('請輸入你想查詢的日期(格式為yyyy-mm-dd):')\n",
    "y = int(dat[0:4])\n",
    "m = int(dat[5:7])\n",
    "d = int(dat[8:]) \n",
    "\n",
    "ly = False\n",
    "if y%100 == 0:\n",
    "    if y%400 == 0:\n",
    "        ly = True\n",
    "    else:\n",
    "        ly = False\n",
    "elif y%4 == 0:\n",
    "     ly = True\n",
    "else:\n",
    "    ly = False\n",
    "\n",
    "if ly == True:\n",
    "    ms = [31, 29, 31, 30, 31,30, 31, 31, 30, 31, 30, 31]\n",
    "else:\n",
    "    ms = [31, 28, 31, 30, 31,30, 31, 31, 30, 31, 30, 31]\n",
    "days = 0\n",
    "\n",
    "for i in range(1,13): \n",
    "    if i == m:\n",
    "        for j in range(i-1):\n",
    "           days += ms[j]\n",
    "        print('%s是該年份的第%s天' % (dat, (days +d)))"
   ]
  },
  {
   "cell_type": "code",
   "execution_count": null,
   "metadata": {},
   "outputs": [],
   "source": []
  }
 ],
 "metadata": {
  "kernelspec": {
   "display_name": "Python 3",
   "language": "python",
   "name": "python3"
  },
  "language_info": {
   "codemirror_mode": {
    "name": "ipython",
    "version": 3
   },
   "file_extension": ".py",
   "mimetype": "text/x-python",
   "name": "python",
   "nbconvert_exporter": "python",
   "pygments_lexer": "ipython3",
   "version": "3.7.1"
  }
 },
 "nbformat": 4,
 "nbformat_minor": 2
}

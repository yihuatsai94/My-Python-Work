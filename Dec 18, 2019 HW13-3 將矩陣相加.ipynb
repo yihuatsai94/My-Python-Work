{
 "cells": [
  {
   "cell_type": "code",
   "execution_count": 1,
   "metadata": {},
   "outputs": [],
   "source": [
    "%matplotlib inline\n",
    "\n",
    "import numpy as np\n",
    "import matplotlib.pyplot as plt\n",
    "import pandas as pd"
   ]
  },
  {
   "cell_type": "markdown",
   "metadata": {},
   "source": [
    "### 矩陣相加"
   ]
  },
  {
   "cell_type": "code",
   "execution_count": 2,
   "metadata": {},
   "outputs": [],
   "source": [
    "m1 = np.random.randint(1, 100, size=(3, 3))\n",
    "m2 = np.random.randint(1, 100, size=(3, 3))"
   ]
  },
  {
   "cell_type": "code",
   "execution_count": 3,
   "metadata": {},
   "outputs": [
    {
     "name": "stdout",
     "output_type": "stream",
     "text": [
      "第一個矩陣為:\n",
      " [[ 2 56 63]\n",
      " [41 23 10]\n",
      " [28 29 32]]\n",
      "第二個矩陣為:\n",
      " [[69 95 51]\n",
      " [55 51 50]\n",
      " [43  8 44]]\n",
      "兩個矩陣相加為:\n",
      " [[ 71 151 114]\n",
      " [ 96  74  60]\n",
      " [ 71  37  76]]\n"
     ]
    }
   ],
   "source": [
    "def matrix_plus(m1, m2):\n",
    "    return m1 + m2\n",
    "\n",
    "print(\"第一個矩陣為:\\n\", m1)\n",
    "print(\"第二個矩陣為:\\n\", m2)\n",
    "print(\"兩個矩陣相加為:\\n\", matrix_plus(m1, m2))"
   ]
  },
  {
   "cell_type": "code",
   "execution_count": null,
   "metadata": {},
   "outputs": [],
   "source": []
  }
 ],
 "metadata": {
  "kernelspec": {
   "display_name": "Python 3",
   "language": "python",
   "name": "python3"
  },
  "language_info": {
   "codemirror_mode": {
    "name": "ipython",
    "version": 3
   },
   "file_extension": ".py",
   "mimetype": "text/x-python",
   "name": "python",
   "nbconvert_exporter": "python",
   "pygments_lexer": "ipython3",
   "version": "3.7.1"
  }
 },
 "nbformat": 4,
 "nbformat_minor": 2
}

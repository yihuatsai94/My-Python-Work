{
 "cells": [
  {
   "cell_type": "code",
   "execution_count": 1,
   "metadata": {},
   "outputs": [],
   "source": [
    "%matplotlib inline\n",
    "import numpy as np\n",
    "import matplotlib.pyplot as plt\n",
    "import pandas as pd"
   ]
  },
  {
   "cell_type": "markdown",
   "metadata": {},
   "source": [
    "### 將所輸入的字母，用相反顺序輸出"
   ]
  },
  {
   "cell_type": "code",
   "execution_count": 2,
   "metadata": {},
   "outputs": [
    {
     "name": "stdout",
     "output_type": "stream",
     "text": [
      "p y t h o n "
     ]
    }
   ],
   "source": [
    "def f(text):\n",
    "    l = len(text)\n",
    "    if l == 1:\n",
    "        print(text, end=' ')\n",
    "    else:\n",
    "        print(text[-1], end=' ')\n",
    "        f(text[:-1])\n",
    "f('nohtyp')"
   ]
  },
  {
   "cell_type": "code",
   "execution_count": 3,
   "metadata": {},
   "outputs": [
    {
     "name": "stdout",
     "output_type": "stream",
     "text": [
      "H I   2 0 2 0 "
     ]
    }
   ],
   "source": [
    "def f(text):\n",
    "    l = len(text)\n",
    "    if l == 1:\n",
    "        print(text, end=' ')\n",
    "    else:\n",
    "        print(text[-1], end=' ')\n",
    "        f(text[:-1])\n",
    "f('0202 IH')"
   ]
  },
  {
   "cell_type": "code",
   "execution_count": 4,
   "metadata": {},
   "outputs": [
    {
     "name": "stdout",
     "output_type": "stream",
     "text": [
      "你 好 "
     ]
    }
   ],
   "source": [
    "def f(text):\n",
    "    l = len(text)\n",
    "    if l == 1:\n",
    "        print(text, end=' ')\n",
    "    else:\n",
    "        print(text[-1], end=' ')\n",
    "        f(text[:-1])\n",
    "f('好你')"
   ]
  },
  {
   "cell_type": "code",
   "execution_count": 5,
   "metadata": {},
   "outputs": [
    {
     "name": "stdout",
     "output_type": "stream",
     "text": [
      "數 學 軟 體 應 用 "
     ]
    }
   ],
   "source": [
    "def f(text):\n",
    "    l = len(text)\n",
    "    if l == 1:\n",
    "        print(text, end=' ')\n",
    "    else:\n",
    "        print(text[-1], end=' ')\n",
    "        f(text[:-1])\n",
    "f('用應體軟學數')"
   ]
  },
  {
   "cell_type": "code",
   "execution_count": 6,
   "metadata": {},
   "outputs": [
    {
     "name": "stdout",
     "output_type": "stream",
     "text": [
      "H e l l o   W o r l d   ! ! "
     ]
    }
   ],
   "source": [
    "def f(text):\n",
    "    l = len(text)\n",
    "    if l == 1:\n",
    "        print(text, end=' ')\n",
    "    else:\n",
    "        print(text[-1], end=' ')\n",
    "        f(text[:-1])\n",
    "f('!! dlroW olleH')"
   ]
  }
 ],
 "metadata": {
  "kernelspec": {
   "display_name": "Python 3",
   "language": "python",
   "name": "python3"
  },
  "language_info": {
   "codemirror_mode": {
    "name": "ipython",
    "version": 3
   },
   "file_extension": ".py",
   "mimetype": "text/x-python",
   "name": "python",
   "nbconvert_exporter": "python",
   "pygments_lexer": "ipython3",
   "version": "3.7.1"
  }
 },
 "nbformat": 4,
 "nbformat_minor": 2
}
